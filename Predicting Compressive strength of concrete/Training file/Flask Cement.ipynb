{
 "cells": [
  {
   "cell_type": "code",
   "execution_count": null,
   "metadata": {},
   "outputs": [
    {
     "name": "stdout",
     "output_type": "stream",
     "text": [
      " * Serving Flask app \"__main__\" (lazy loading)\n",
      " * Environment: production\n",
      "   WARNING: This is a development server. Do not use it in a production deployment.\n",
      "   Use a production WSGI server instead.\n",
      " * Debug mode: off\n"
     ]
    },
    {
     "name": "stderr",
     "output_type": "stream",
     "text": [
      " * Running on http://127.0.0.1:5000/ (Press CTRL+C to quit)\n",
      "127.0.0.1 - - [12/Sep/2020 02:35:39] \"\u001b[37mGET / HTTP/1.1\u001b[0m\" 200 -\n",
      "127.0.0.1 - - [12/Sep/2020 02:36:54] \"\u001b[37mPOST /predict HTTP/1.1\u001b[0m\" 200 -\n"
     ]
    },
    {
     "name": "stdout",
     "output_type": "stream",
     "text": [
      "prediction is [[148.84941093]]\n"
     ]
    }
   ],
   "source": [
    "\n",
    "# importing the necessary dependencies\n",
    "import numpy as np\n",
    "from flask import Flask, request, render_template\n",
    "import pickle\n",
    "import os\n",
    "import pandas as pd\n",
    "\n",
    "app = Flask(__name__) # initializing a flask app\n",
    "model = pickle.load(open('cement.pkl', 'rb'))\n",
    "\n",
    "@app.route('/')  # route to display the home page\n",
    "\n",
    "def home():\n",
    "    return render_template(\"index1.html\")\n",
    "\n",
    "@app.route('/predict',methods=['POST']) # route to show the predictions in a web UI\n",
    "\n",
    "def index():\n",
    "            #  reading the inputs given by the user\n",
    "    input_features = [float(x) for x in request.form.values()]\n",
    "    features_value = [np.array(input_features)]\n",
    "    features_name = ['blood_urea', 'blood glucose random', 'anemia',\n",
    "       'coronary_artery_disease', 'pus_cell', 'red_blood_cells',\n",
    "       'diabetesmellitus', 'pedal_edema']\n",
    "    x = pd.DataFrame(features_value, columns=features_name)\n",
    "    x_log=np.log(x)\n",
    "            \n",
    "            # predictions using the loaded model file\n",
    "    prediction=model.predict(x_log)\n",
    "    print('prediction is', prediction)\n",
    "            # showing the prediction results in a UI\n",
    "    return render_template('result2.html',prediction=prediction[0])\n",
    "    # return render_template('results.html')\n",
    "\n",
    "\n",
    "if __name__ == \"__main__\":\n",
    "    #app.run(host='127.0.0.1', port=8001, debug=True)\n",
    "    app.run(debug=False) # running the app"
   ]
  },
  {
   "cell_type": "code",
   "execution_count": null,
   "metadata": {},
   "outputs": [],
   "source": []
  },
  {
   "cell_type": "code",
   "execution_count": null,
   "metadata": {},
   "outputs": [],
   "source": []
  }
 ],
 "metadata": {
  "kernelspec": {
   "display_name": "Python 3",
   "language": "python",
   "name": "python3"
  },
  "language_info": {
   "codemirror_mode": {
    "name": "ipython",
    "version": 3
   },
   "file_extension": ".py",
   "mimetype": "text/x-python",
   "name": "python",
   "nbconvert_exporter": "python",
   "pygments_lexer": "ipython3",
   "version": "3.8.3"
  }
 },
 "nbformat": 4,
 "nbformat_minor": 4
}
